{
 "cells": [
  {
   "cell_type": "code",
   "execution_count": 1,
   "id": "e919cd5a",
   "metadata": {},
   "outputs": [
    {
     "data": {
      "text/plain": [
       "<Figure size 3200x3200 with 0 Axes>"
      ]
     },
     "execution_count": 1,
     "metadata": {},
     "output_type": "execute_result"
    },
    {
     "data": {
      "text/plain": [
       "<Figure size 3200x3200 with 0 Axes>"
      ]
     },
     "metadata": {},
     "output_type": "display_data"
    }
   ],
   "source": [
    "import os\n",
    "import sys\n",
    "import cv2\n",
    "import numpy as np\n",
    "from PIL import Image\n",
    "import matplotlib.pyplot as plt\n",
    "from torch import nn\n",
    "import torchvision.transforms as T\n",
    "from torch.utils.data import DataLoader\n",
    "from torchvision.datasets import DatasetFolder, ImageFolder\n",
    "\n",
    "\n",
    "def no_axis_show(img, title='', cmap=None):\n",
    "  # imshow, 縮放模式為nearest。\n",
    "  fig = plt.imshow(img, interpolation='nearest', cmap=cmap)\n",
    "  # 不要显示axis\n",
    "  fig.axes.get_xaxis().set_visible(False)\n",
    "  fig.axes.get_yaxis().set_visible(False)\n",
    "  plt.title(title)\n",
    "\n",
    "\n",
    "titles = ['0', '1', '2', '3', '4', '5', '6', '7', '8']\n",
    "plt.figure(figsize=(32, 32))"
   ]
  },
  {
   "cell_type": "code",
   "execution_count": 2,
   "id": "3eda1d45",
   "metadata": {},
   "outputs": [],
   "source": [
    "def source_transform(imge):\n",
    "  # 转灰色: Canny 不吃 RGB。\n",
    "  img = T.functional.to_grayscale(imge)\n",
    "  # cv2 不吃 skimage.Image，因此转成np.array后再做cv2.Canny\n",
    "  img = cv2.Canny(np.array(img), 170, 300)\n",
    "  # 重新np.array 转回 skimage.Image\n",
    "  img = Image.fromarray(np.array(img))\n",
    "  # 随机水平翻转 (Augmentation)\n",
    "  RHF = T.RandomHorizontalFlip(0.5)\n",
    "  img = RHF(img)\n",
    "  # 旋转15度内 (Augmentation)，旋转后空的地方补0\n",
    "  RR = T.RandomRotation(15, fill=(0,))\n",
    "  img = RR(img)\n",
    "  # 最后Tensor供model使用。\n",
    "  tensor = T.ToTensor()\n",
    "\n",
    "  return tensor(img)"
   ]
  },
  {
   "cell_type": "code",
   "execution_count": 3,
   "id": "85281dac",
   "metadata": {},
   "outputs": [],
   "source": [
    "target_transform = T.Compose([\n",
    "  # 转灰阶:\n",
    "  T.Grayscale(),\n",
    "  # 缩放: 因为source data是32x32，我们把target data的28x28放大成32x32。\n",
    "  T.Resize((32, 32)),\n",
    "  # 随机水平翻转(Augmentation)\n",
    "  T.RandomHorizontalFlip(0.5),\n",
    "  # 旋转15度内 (Augmentation)，旋转后空的地方补0\n",
    "  T.RandomRotation(15, fill=(0,)),\n",
    "  # 最后Tensor供model使用。\n",
    "  T.ToTensor(),\n",
    "])"
   ]
  },
  {
   "cell_type": "code",
   "execution_count": 4,
   "id": "6dd1db19",
   "metadata": {},
   "outputs": [],
   "source": [
    "# 生成数据集\n",
    "source_dataset = ImageFolder('./train_data', transform=source_transform)  # DatasetFolder 用于读取训练集，读取的时候图片和标签\n",
    "target_dataset = ImageFolder('./test_data', transform=target_transform)  # ImageFolder 用于读取测试集，读取的时候只有图片\n",
    "# 数据加载器定义\n",
    "source_dataloader = DataLoader(source_dataset, batch_size=50, shuffle=True)\n",
    "target_dataloader = DataLoader(target_dataset, batch_size=50, shuffle=True)\n",
    "test_dataloader = DataLoader(target_dataset, batch_size=100, shuffle=False)"
   ]
  },
  {
   "cell_type": "code",
   "execution_count": 5,
   "id": "2ea13b89",
   "metadata": {},
   "outputs": [
    {
     "name": "stdout",
     "output_type": "stream",
     "text": [
      "=============source_dataset=============\n",
      "image shape: torch.Size([1, 32, 32]), label: 0\n",
      "训练集数量: 4500\n",
      "图片： tensor([[[0., 0., 0.,  ..., 0., 0., 0.],\n",
      "         [0., 0., 0.,  ..., 0., 0., 0.],\n",
      "         [1., 1., 1.,  ..., 0., 0., 0.],\n",
      "         ...,\n",
      "         [0., 0., 0.,  ..., 0., 0., 0.],\n",
      "         [0., 0., 0.,  ..., 0., 0., 0.],\n",
      "         [0., 0., 0.,  ..., 0., 0., 0.]]])\n",
      "标签： 0\n"
     ]
    },
    {
     "data": {
      "image/png": "[encoded data removed]",
      "text/plain": [
       "<Figure size 640x480 with 1 Axes>"
      ]
     },
     "metadata": {},
     "output_type": "display_data"
    }
   ],
   "source": [
    "%matplotlib inline\n",
    "# 展示生成并经过预处理的的source_dataset和source_loader\n",
    "print('=============source_dataset=============')\n",
    "#由于使用了DatasetFolder，训练集这里有图片和标签两个参数image,label\n",
    "for image, label in source_dataset:\n",
    "    print('image shape: {}, label: {}'.format(image.shape,label))\n",
    "    print('训练集数量:',len(source_dataset))\n",
    "    print('图片：',image)\n",
    "    print('标签：',label)\n",
    "    plt.imshow(image.numpy().squeeze(),cmap='gray')\n",
    "    break"
   ]
  },
  {
   "cell_type": "code",
   "execution_count": 6,
   "id": "6ff4f266",
   "metadata": {},
   "outputs": [
    {
     "name": "stdout",
     "output_type": "stream",
     "text": [
      "=============source_dataloader=============\n",
      "一个batch的图片： torch.Size([50, 1, 32, 32])\n",
      "一个batch的标签个数： torch.Size([50])\n",
      "图片： torch.Size([1, 32, 32])\n"
     ]
    }
   ],
   "source": [
    "#source_loader的信息    \n",
    "print('=============source_dataloader=============')\n",
    "for batch_id, (data,label) in enumerate(source_dataloader):\n",
    "    print('一个batch的图片：',data.shape)    # 索引[0]存放图片\n",
    "    print('一个batch的标签个数：',label.shape)   #索引[1]存放标签\n",
    "    print('图片：',data[0].shape) \n",
    "    break\n",
    "# no_axis_show(x_data.numpy().squeeze(),title='process image', cmap='gray')"
   ]
  },
  {
   "cell_type": "code",
   "execution_count": 7,
   "id": "d7f3ad26",
   "metadata": {},
   "outputs": [
    {
     "name": "stdout",
     "output_type": "stream",
     "text": [
      "=============target_dataset=============\n",
      "image shape: torch.Size([1, 32, 32])\n",
      "测试集数量: 100000\n",
      "图片： tensor([[[0., 0., 0.,  ..., 0., 0., 0.],\n",
      "         [0., 0., 0.,  ..., 0., 0., 0.],\n",
      "         [0., 0., 0.,  ..., 0., 0., 0.],\n",
      "         ...,\n",
      "         [0., 0., 0.,  ..., 0., 0., 0.],\n",
      "         [0., 0., 0.,  ..., 0., 0., 0.],\n",
      "         [0., 0., 0.,  ..., 0., 0., 0.]]])\n"
     ]
    },
    {
     "data": {
      "image/png": "[encoded data removed]",
      "text/plain": [
       "<Figure size 640x480 with 1 Axes>"
      ]
     },
     "metadata": {},
     "output_type": "display_data"
    }
   ],
   "source": [
    "# 展示生成并经过预处理的target_dataset和target_dataloader\n",
    "print('=============target_dataset=============')\n",
    "for image_,_ in target_dataset:\n",
    "    print('image shape: {}'.format(image_.shape))\n",
    "    print('测试集数量:',len(target_dataset))\n",
    "    plt.imshow(image_.numpy().squeeze(),cmap='gray')\n",
    "    print('图片：',image_)\n",
    "    break"
   ]
  },
  {
   "cell_type": "code",
   "execution_count": 8,
   "id": "13e47b6d",
   "metadata": {},
   "outputs": [
    {
     "name": "stdout",
     "output_type": "stream",
     "text": [
      "=============target_dataloader=============\n",
      "一个batch的图片： torch.Size([50, 1, 32, 32])\n",
      "一张图片的形状： torch.Size([1, 32, 32])\n",
      "tensor([0, 0, 0, 0, 0, 0, 0, 0, 0, 0, 0, 0, 0, 0, 0, 0, 0, 0, 0, 0, 0, 0, 0, 0,\n",
      "        0, 0, 0, 0, 0, 0, 0, 0, 0, 0, 0, 0, 0, 0, 0, 0, 0, 0, 0, 0, 0, 0, 0, 0,\n",
      "        0, 0])\n"
     ]
    }
   ],
   "source": [
    "#target_dataloader的信息    \n",
    "print('=============target_dataloader=============')\n",
    "for batch_id, (data_1,label_1) in enumerate(target_dataloader):\n",
    "    # print('一个batch的图片：',data[0].shape)\n",
    "    print('一个batch的图片：',data_1.shape)\n",
    "    print('一张图片的形状：',data_1[0].shape) \n",
    "    print(label_1)\n",
    "    break"
   ]
  },
  {
   "cell_type": "code",
   "execution_count": null,
   "id": "89be0330",
   "metadata": {},
   "outputs": [],
   "source": []
  }
 ],
 "metadata": {
  "kernelspec": {
   "display_name": "Python 3 (ipykernel)",
   "language": "python",
   "name": "python3"
  },
  "language_info": {
   "codemirror_mode": {
    "name": "ipython",
    "version": 3
   },
   "file_extension": ".py",
   "mimetype": "text/x-python",
   "name": "python",
   "nbconvert_exporter": "python",
   "pygments_lexer": "ipython3",
   "version": "3.8.13"
  }
 },
 "nbformat": 4,
 "nbformat_minor": 5
}
